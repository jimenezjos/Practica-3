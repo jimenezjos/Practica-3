{
  "nbformat": 4,
  "nbformat_minor": 0,
  "metadata": {
    "colab": {
      "provenance": []
    },
    "kernelspec": {
      "name": "python3",
      "display_name": "Python 3"
    },
    "language_info": {
      "name": "python"
    }
  },
  "cells": [
    {
      "cell_type": "code",
      "metadata": {
        "id": "-IZq7-0U4_v-"
      },
      "source": [
        "   #Importacion de librerias\n",
        "import numpy as np\n",
        "from tabulate import tabulate\n",
        "import matplotlib.pyplot as plt"
      ],
      "execution_count": 1,
      "outputs": []
    },
    {
      "cell_type": "code",
      "source": [
        "#INTERPOLACION METODO DE NEWTON\n",
        "\n",
        "#Define función para la interpolación\n",
        "def InterpolNewton(x, y, xi):\n",
        "  n = len(x)\n",
        "\n",
        "  #1) Matriz de diferencias divididas\n",
        "\n",
        "  dd = np.zeros([n, n])       #Matriz de las diferencias divididas\n",
        "  b = []                      #diagonal de la matriz de diferencias divididas\n",
        "  for i in range (n):\n",
        "    for j in range (n):\n",
        "      if j == 0:\n",
        "        dd[i, j] = y[i]       #La primera columna de la matriz corresponde a f[x]\n",
        "      elif i<j:\n",
        "        dd[i, j] = dd[i, j]   #hacer NADA\n",
        "      else:\n",
        "        dd[i, j] = (dd[i, j-1] - dd[i - 1, j-1])/(x[i] - x[i - j]) #Calculo de diferencias divididas\n",
        "\n",
        "      if i == j:\n",
        "        b.append(dd[i, j])    #Coeficiente 'b'\n",
        "\n",
        "\n",
        "  #2) Polinomio de interpolación b0 + b1(x - x0) + b2(x - x0)(x - x1) + b3(x - x0)(x - x1)(x - x2)…\n",
        "\n",
        "  xterm = []          #Terminos del polinomio numericos (x - x_0)(x - x_1)...(x - x_n-1)\n",
        "  xterm_simbol = []   #Terminos del polinomio simbolicos (x - x_0)(x - x_1)...(x - x_n-1)\n",
        "  pol = []            #Polinomio de interpolacion numerico b0 + b1(x - x0) + b2(x - x0)(x - x1) + b3(x - x0)(x - x1)(x - x2)…\n",
        "  pol_simbol = []     #Polinomio de interpolacion simbolico b0 + b1(x - x0) + b2(x - x0)(x - x1) + b3(x - x0)(x - x1)(x - x2)…\n",
        "  Rn = []             #Residual\n",
        "  I = []              #Grado del polinomio\n",
        "\n",
        "  for i in range(n):\n",
        "    I.append(i)\n",
        "    if i == 0:\n",
        "      xterm.append(1)\n",
        "      xterm_simbol.append('1')\n",
        "      pol.append(b[i]*xterm[i])\n",
        "      pol_simbol.append(str(b[i]))\n",
        "    else:\n",
        "      xterm.append(xterm[i-1] * (xi - x[i - 1]))\n",
        "      xterm_simbol.append(str(xterm_simbol[i-1]) + '(x - ' + str(x[i - 1]) + ')')\n",
        "      pol.append(pol[i - 1] + b[i]*xterm[i])\n",
        "      pol_simbol.append(str(pol_simbol[i-1]) + ' + ' + str(b[i]) + str(xterm_simbol[i]))\n",
        "      Rn.append(abs((pol[i] - pol[i - 1])))\n",
        "\n",
        "  Rn.append('--')\n",
        "\n",
        "\n",
        "  #3) Tablas de resultados\n",
        "\n",
        "  table0 = []                   #Tabla interpolacion de newton\n",
        "  table1 = []                   #Tabla polinomios de interpolacion\n",
        "\n",
        "  for i in range (n):           #llena la tabla de datos\n",
        "    table0.append([I[i], x[i], y[i], b[i], xterm[i], pol[i], Rn[i]] )\n",
        "    table1.append([I[i], pol_simbol[i]])\n",
        "\n",
        "  print(\"POLINOMIOS DE INTERPOLACION DE NEWTON\")\n",
        "  print( \" \")\n",
        "  print(\"Tabla de resultados\")\n",
        "  print(tabulate(table0, headers = [\"n\", \"x\", \"y\", \"b\", \"(xh - x0 )(xh - x1) … (xh - xn-1)\", \"y interpolacion\", \"Rn\" ]))       #Imprime la tabla\n",
        "  print(\" \")\n",
        "  print(\"Polinomios de interpolacion\")\n",
        "  print(tabulate(table1, headers = [\"n\",\"f(x)\"]))\n",
        "  print(\" \")\n",
        "  print(\"Tabla de diferencias divididas\")\n",
        "  print(\"f[x], f[xi, xj], f[xi, xj, xk], f[xi, xj, xk, xl], f[xi, xj, xk, xl, xm], f[xi, xj, xk, xl, xm, xn]...\")\n",
        "  print(\" \")\n",
        "  print(tabulate(dd))\n",
        "\n",
        "\n",
        "  return(I, x, dd, b, xterm, pol, xterm_simbol, pol_simbol )"
      ],
      "metadata": {
        "id": "n99iLqYswud6"
      },
      "execution_count": 2,
      "outputs": []
    },
    {
      "cell_type": "code",
      "source": [
        "#SOLUCION DEL EJERCICIO\n",
        "\n",
        "#Datos de entrada\n",
        "x = [0,1,2,3,4,5]       #x\n",
        "y = [-5,1,9,25,55,105]        #y\n",
        "#x = [12.47, 16.53]       #x\n",
        "#y = [1.94, 3.28]\n",
        "xi = 1.5                        #Punto de interpolacion\n",
        "n = len(x)-1                  #Grado del polinomio de aproximacion\n",
        "\n",
        "#Llama la funcion de interpolacion de Newton\n",
        "I, xn, dd, b, xterm, pol, xterm_simbol, pol_simbol = InterpolNewton(x, y, xi)\n",
        "print(xterm)"
      ],
      "metadata": {
        "colab": {
          "base_uri": "https://localhost:8080/"
        },
        "id": "VXKe6MxPxPyM",
        "outputId": "90c592b4-b5d5-4390-8e8c-b9d30110dc59"
      },
      "execution_count": 3,
      "outputs": [
        {
          "output_type": "stream",
          "name": "stdout",
          "text": [
            "POLINOMIOS DE INTERPOLACION DE NEWTON\n",
            " \n",
            "Tabla de resultados\n",
            "  n    x    y    b    (xh - x0 )(xh - x1) … (xh - xn-1)    y interpolacion  Rn\n",
            "---  ---  ---  ---  -----------------------------------  -----------------  -----\n",
            "  0    0   -5   -5                              1                   -5      9.0\n",
            "  1    1    1    6                              1.5                  4      0.75\n",
            "  2    2    9    1                              0.75                 4.75   0.375\n",
            "  3    3   25    1                             -0.375                4.375  0.0\n",
            "  4    4   55    0                              0.5625               4.375  0.0\n",
            "  5    5  105    0                             -1.40625              4.375  --\n",
            " \n",
            "Polinomios de interpolacion\n",
            "  n  f(x)\n",
            "---  ------------------------------------------------------------------------------------------------------------------------------------------------\n",
            "  0  -5.0\n",
            "  1  -5.0 + 6.01(x - 0)\n",
            "  2  -5.0 + 6.01(x - 0) + 1.01(x - 0)(x - 1)\n",
            "  3  -5.0 + 6.01(x - 0) + 1.01(x - 0)(x - 1) + 1.01(x - 0)(x - 1)(x - 2)\n",
            "  4  -5.0 + 6.01(x - 0) + 1.01(x - 0)(x - 1) + 1.01(x - 0)(x - 1)(x - 2) + 0.01(x - 0)(x - 1)(x - 2)(x - 3)\n",
            "  5  -5.0 + 6.01(x - 0) + 1.01(x - 0)(x - 1) + 1.01(x - 0)(x - 1)(x - 2) + 0.01(x - 0)(x - 1)(x - 2)(x - 3) + 0.01(x - 0)(x - 1)(x - 2)(x - 3)(x - 4)\n",
            " \n",
            "Tabla de diferencias divididas\n",
            "f[x], f[xi, xj], f[xi, xj, xk], f[xi, xj, xk, xl], f[xi, xj, xk, xl, xm], f[xi, xj, xk, xl, xm, xn]...\n",
            " \n",
            "---  --  --  -  -  -\n",
            " -5   0   0  0  0  0\n",
            "  1   6   0  0  0  0\n",
            "  9   8   1  0  0  0\n",
            " 25  16   4  1  0  0\n",
            " 55  30   7  1  0  0\n",
            "105  50  10  1  0  0\n",
            "---  --  --  -  -  -\n",
            "[1, 1.5, 0.75, -0.375, 0.5625, -1.40625]\n"
          ]
        }
      ]
    }
  ]
}