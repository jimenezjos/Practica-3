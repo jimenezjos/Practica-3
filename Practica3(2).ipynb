{
  "metadata": {
    "language_info": {
      "codemirror_mode": {
        "name": "python",
        "version": 3
      },
      "file_extension": ".py",
      "mimetype": "text/x-python",
      "name": "python",
      "nbconvert_exporter": "python",
      "pygments_lexer": "ipython3",
      "version": "3.8"
    },
    "kernelspec": {
      "name": "python",
      "display_name": "Python (Pyodide)",
      "language": "python"
    }
  },
  "nbformat_minor": 4,
  "nbformat": 4,
  "cells": [
    {
      "cell_type": "code",
      "source": "#INTERPOLACION DE DIFERENCIAS DIVIDIDAS DE NEWTON\nimport numpy as np\nimport sympy as sym\nimport matplotlib.pyplot as plt\n\n# INGRESO , Datos de prueba\nxi = np.array([0,.6,.9])\nfi = np.array([1,.8253,.6216])\n\n# PROCEDIMIENTO\n\n# Tabla de Diferencias Divididas Avanzadas\ntitulo = ['i   ','xi  ','fi  ']\nn = len(xi)\nki = np.arange(0,n,1)\ntabla = np.concatenate(([ki],[xi],[fi]),axis=0)\ntabla = np.transpose(tabla)\n\n# diferencias divididas vacia\ndfinita = np.zeros(shape=(n,n),dtype=float)\ntabla = np.concatenate((tabla,dfinita), axis=1)\n\n# Calcula tabla, inicia en columna 3\n[n,m] = np.shape(tabla)\ndiagonal = n-1\nj = 3\nwhile (j < m):\n    # Añade título para cada columna\n    titulo.append('F['+str(j-2)+']')\n\n    # cada fila de columna\n    i = 0\n    paso = j-2 # inicia en 1\n    while (i < diagonal):\n        denominador = (xi[i+paso]-xi[i])\n        numerador = tabla[i+1,j-1]-tabla[i,j-1]\n        tabla[i,j] = numerador/denominador\n        i = i+1\n    diagonal = diagonal - 1\n    j = j+1\n\n# POLINOMIO con diferencias Divididas\n# caso: puntos equidistantes en eje x\ndDividida = tabla[0,3:]\nn = len(dfinita)\n\n# expresión del polinomio con Sympy\nx = sym.Symbol('x')\npolinomio = fi[0]\nfor j in range(1,n,1):\n    factor = dDividida[j-1]\n    termino = 1\n    for k in range(0,j,1):\n        termino = termino*(x-xi[k])\n    polinomio = polinomio + termino*factor\n\n# simplifica multiplicando entre (x-xi)\npolisimple = polinomio.expand()\n\n# polinomio para evaluacion numérica\npx = sym.lambdify(x,polisimple)\n\n# Puntos para la gráfica\nmuestras = 101\na = np.min(xi)\nb = np.max(xi)\npxi = np.linspace(a,b,muestras)\npfi = px(pxi)\n\n# SALIDA\nnp.set_printoptions(precision = 4)\nprint('Tabla Diferencia Dividida')\nprint([titulo])\nprint(tabla)\nprint('dDividida: ')\nprint(dDividida)\nprint('polinomio: ')\nprint(polinomio)\nprint('polinomio simplificado: ' )\nprint(polisimple)",
      "metadata": {
        "trusted": true
      },
      "execution_count": 3,
      "outputs": [
        {
          "name": "stdout",
          "text": "Tabla Diferencia Dividida\n[['i   ', 'xi  ', 'fi  ', 'F[1]', 'F[2]', 'F[3]']]\n[[ 0.      0.      1.     -0.2912 -0.4309  0.    ]\n [ 1.      0.6     0.8253 -0.679   0.      0.    ]\n [ 2.      0.9     0.6216  0.      0.      0.    ]]\ndDividida: \n[-0.2912 -0.4309  0.    ]\npolinomio: \n-0.430925925925926*x*(x - 0.6) - 0.291166666666667*x + 1.0\npolinomio simplificado: \n-0.430925925925926*x**2 - 0.0326111111111112*x + 1.0\n",
          "output_type": "stream"
        }
      ]
    }
  ]
}