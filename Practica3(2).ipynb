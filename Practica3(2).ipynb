{
  "nbformat": 4,
  "nbformat_minor": 0,
  "metadata": {
    "colab": {
      "provenance": []
    },
    "kernelspec": {
      "name": "python3",
      "display_name": "Python 3"
    },
    "language_info": {
      "name": "python"
    }
  },
  "cells": [
    {
      "cell_type": "code",
      "metadata": {
        "id": "-IZq7-0U4_v-"
      },
      "source": [
        "   #Importacion de librerias\n",
        "import numpy as np\n",
        "from tabulate import tabulate\n",
        "import matplotlib.pyplot as plt"
      ],
      "execution_count": 1,
      "outputs": []
    },
    {
      "cell_type": "code",
      "source": [
        "#INTERPOLACION METODO DE NEWTON\n",
        "\n",
        "#Define función para la interpolación\n",
        "def InterpolNewton(x, y, xi):\n",
        "  n = len(x)\n",
        "\n",
        "  #1) Matriz de diferencias divididas\n",
        "\n",
        "  dd = np.zeros([n, n])       #Matriz de las diferencias divididas\n",
        "  b = []                      #diagonal de la matriz de diferencias divididas\n",
        "  for i in range (n):\n",
        "    for j in range (n):\n",
        "      if j == 0:\n",
        "        dd[i, j] = y[i]       #La primera columna de la matriz corresponde a f[x]\n",
        "      elif i<j:\n",
        "        dd[i, j] = dd[i, j]   #hacer NADA\n",
        "      else:\n",
        "        dd[i, j] = (dd[i, j-1] - dd[i - 1, j-1])/(x[i] - x[i - j]) #Calculo de diferencias divididas\n",
        "\n",
        "      if i == j:\n",
        "        b.append(dd[i, j])    #Coeficiente 'b'\n",
        "\n",
        "\n",
        "  #2) Polinomio de interpolación b0 + b1(x - x0) + b2(x - x0)(x - x1) + b3(x - x0)(x - x1)(x - x2)…\n",
        "\n",
        "  xterm = []          #Terminos del polinomio numericos (x - x_0)(x - x_1)...(x - x_n-1)\n",
        "  xterm_simbol = []   #Terminos del polinomio simbolicos (x - x_0)(x - x_1)...(x - x_n-1)\n",
        "  pol = []            #Polinomio de interpolacion numerico b0 + b1(x - x0) + b2(x - x0)(x - x1) + b3(x - x0)(x - x1)(x - x2)…\n",
        "  pol_simbol = []     #Polinomio de interpolacion simbolico b0 + b1(x - x0) + b2(x - x0)(x - x1) + b3(x - x0)(x - x1)(x - x2)…\n",
        "  Rn = []             #Residual\n",
        "  I = []              #Grado del polinomio\n",
        "\n",
        "  for i in range(n):\n",
        "    I.append(i)\n",
        "    if i == 0:\n",
        "      xterm.append(1)\n",
        "      xterm_simbol.append('1')\n",
        "      pol.append(b[i]*xterm[i])\n",
        "      pol_simbol.append(str(b[i]))\n",
        "    else:\n",
        "      xterm.append(xterm[i-1] * (xi - x[i - 1]))\n",
        "      xterm_simbol.append(str(xterm_simbol[i-1]) + '(x - ' + str(x[i - 1]) + ')')\n",
        "      pol.append(pol[i - 1] + b[i]*xterm[i])\n",
        "      pol_simbol.append(str(pol_simbol[i-1]) + ' + ' + str(b[i]) + str(xterm_simbol[i]))\n",
        "      Rn.append(abs((pol[i] - pol[i - 1])))\n",
        "\n",
        "  Rn.append('--')\n",
        "\n",
        "\n",
        "  #3) Tablas de resultados\n",
        "\n",
        "  table0 = []                   #Tabla interpolacion de newton\n",
        "  table1 = []                   #Tabla polinomios de interpolacion\n",
        "\n",
        "  for i in range (n):           #llena la tabla de datos\n",
        "    table0.append([I[i], x[i], y[i], b[i], xterm[i], pol[i], Rn[i]] )\n",
        "    table1.append([I[i], pol_simbol[i]])\n",
        "\n",
        "  print(\"POLINOMIOS DE INTERPOLACION DE NEWTON\")\n",
        "  print( \" \")\n",
        "  print(\"Tabla de resultados\")\n",
        "  print(tabulate(table0, headers = [\"n\", \"x\", \"y\", \"b\", \"(xh - x0 )(xh - x1) … (xh - xn-1)\", \"y interpolacion\", \"Rn\" ]))       #Imprime la tabla\n",
        "  print(\" \")\n",
        "  print(\"Polinomios de interpolacion\")\n",
        "  print(tabulate(table1, headers = [\"n\",\"f(x)\"]))\n",
        "  print(\" \")\n",
        "  print(\"Tabla de diferencias divididas\")\n",
        "  print(\"f[x], f[xi, xj], f[xi, xj, xk], f[xi, xj, xk, xl], f[xi, xj, xk, xl, xm], f[xi, xj, xk, xl, xm, xn]...\")\n",
        "  print(\" \")\n",
        "  print(tabulate(dd))\n",
        "\n",
        "\n",
        "  return(I, x, dd, b, xterm, pol, xterm_simbol, pol_simbol )"
      ],
      "metadata": {
        "id": "n99iLqYswud6"
      },
      "execution_count": 2,
      "outputs": []
    },
    {
      "cell_type": "code",
      "source": [
        "#SOLUCION DEL EJERCICIO\n",
        "\n",
        "#Datos de entrada\n",
        "x = [0,0.6,0.9]       #x\n",
        "y = [1,.8253,.6216]        #y\n",
        "#x = [12.47, 16.53]       #x\n",
        "#y = [1.94, 3.28]\n",
        "xi = 0.45                       #Punto de interpolacion\n",
        "n = len(x)-1                  #Grado del polinomio de aproximacion\n",
        "\n",
        "#Llama la funcion de interpolacion de Newton\n",
        "I, xn, dd, b, xterm, pol, xterm_simbol, pol_simbol = InterpolNewton(x, y, xi)\n",
        "print(xterm)"
      ],
      "metadata": {
        "colab": {
          "base_uri": "https://localhost:8080/"
        },
        "id": "VXKe6MxPxPyM",
        "outputId": "fc2fff3d-f16b-4074-b956-abca2aa7d03d"
      },
      "execution_count": 5,
      "outputs": [
        {
          "output_type": "stream",
          "name": "stdout",
          "text": [
            "POLINOMIOS DE INTERPOLACION DE NEWTON\n",
            " \n",
            "Tabla de resultados\n",
            "  n    x       y          b    (xh - x0 )(xh - x1) … (xh - xn-1)    y interpolacion  Rn\n",
            "---  ---  ------  ---------  -----------------------------------  -----------------  --------------------\n",
            "  0  0    1        1                                      1                1         0.13102499999999995\n",
            "  1  0.6  0.8253  -0.291167                               0.45             0.868975  0.029087499999999933\n",
            "  2  0.9  0.6216  -0.430926                              -0.0675           0.898062  --\n",
            " \n",
            "Polinomios de interpolacion\n",
            "  n  f(x)\n",
            "---  --------------------------------------------------------------------------\n",
            "  0  1.0\n",
            "  1  1.0 + -0.291166666666666631(x - 0)\n",
            "  2  1.0 + -0.291166666666666631(x - 0) + -0.430925925925925771(x - 0)(x - 0.6)\n",
            " \n",
            "Tabla de diferencias divididas\n",
            "f[x], f[xi, xj], f[xi, xj, xk], f[xi, xj, xk, xl], f[xi, xj, xk, xl, xm], f[xi, xj, xk, xl, xm, xn]...\n",
            " \n",
            "------  ---------  ---------\n",
            "1        0          0\n",
            "0.8253  -0.291167   0\n",
            "0.6216  -0.679     -0.430926\n",
            "------  ---------  ---------\n",
            "[1, 0.45, -0.06749999999999999]\n"
          ]
        }
      ]
    }
  ]
}