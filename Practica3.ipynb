{
  "metadata": {
    "language_info": {
      "codemirror_mode": {
        "name": "python",
        "version": 3
      },
      "file_extension": ".py",
      "mimetype": "text/x-python",
      "name": "python",
      "nbconvert_exporter": "python",
      "pygments_lexer": "ipython3",
      "version": "3.8"
    },
    "kernelspec": {
      "name": "python",
      "display_name": "Python (Pyodide)",
      "language": "python"
    }
  },
  "nbformat_minor": 4,
  "nbformat": 4,
  "cells": [
    {
      "cell_type": "code",
      "source": "#INTERPOLACION POR METODO DE NEVILLE\nimport numpy as np\n# INGRESO , Datos de prueba\nx=np.array([0,.6,.9])\ny=np.array([1,.8253,.6216])\nxi=.45\n#Procedimiento\n#Creamos la tabla\nn=len(x)\n#tabla de puro cero que incluiremos los valores\ndd= np.zeros([n,n])\nb=[]\nfor i in range(n):\n  for j in range(n):\n    if j==0: \n#Los valos para Qn,0        \n      dd[i,j]=y[i]\n    elif i<j:\n#los valores que no pertecen al la interpolacion        \n      dd[i,j]=dd[i,j]  \n    else:\n#Metodo de Neville        \n      dd[i,j]=((xi-x[i-j])*dd[i,j-1] - (xi-x[i])*dd[i-1,j-1])/(x[i]-x[i-j])\nprint(dd)\nprint(\"La interpolacion en el punto\",xi,\"es: \",dd[n-1,n-1])",
      "metadata": {
        "trusted": true
      },
      "execution_count": 2,
      "outputs": [
        {
          "name": "stdout",
          "text": "[[1.        0.        0.       ]\n [0.8253    0.868975  0.       ]\n [0.6216    0.92715   0.8980625]]\nLa interpolacion en el punto 0.45 es:  0.8980625\n",
          "output_type": "stream"
        }
      ]
    }
  ]
}